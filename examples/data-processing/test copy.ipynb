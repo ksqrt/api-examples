{
 "cells": [
  {
   "cell_type": "code",
   "execution_count": 94,
   "metadata": {},
   "outputs": [],
   "source": [
    "import mdf_iter               # MDF4 데이터 불러오는 라이브러리\n",
    "import canedge_browser        # 로컬 또는 S3에 저장된 데이터 가져오는 라이브러리\n",
    "import can_decoder            # 데이터를 복호화하는 라이브러리\n",
    "import numpy as np\n",
    "import pandas as pd           # 데이터분석 라이브러리\n",
    "from datetime import datetime, timezone  # 날짜와 시간 데이터를 가져올 수 있는 파이썬 라이브러리\n",
    "from utils import setup_fs, load_dbc_files, restructure_data, add_custom_sig, ProcessData # 폴더 내 위치한 Custom 라이브러리"
   ]
  },
  {
   "cell_type": "code",
   "execution_count": 95,
   "metadata": {},
   "outputs": [],
   "source": [
    "# specify devices to process (from local/S3), DBC files and start time\n",
    "# devices = [\"LOG/test\"]\n",
    "# dbc_paths = [\"dbc_files/CSS-Electronics-OBD2-v1.4.dbc\"]\n",
    "# s3 또는 로컬에 저장한 파일을 불러옵니다. \n",
    "# 만약 s3에 저장한 경우라면, s3=True를 입력합니다.\n",
    "\n",
    "# 시작시간\n",
    "start = datetime(year=2020, month=1, day=13, hour=0, tzinfo=timezone.utc)"
   ]
  },
  {
   "cell_type": "code",
   "execution_count": 96,
   "metadata": {},
   "outputs": [
    {
     "name": "stdout",
     "output_type": "stream",
     "text": [
      "[<can_decoder.SignalDB.SignalDB object at 0x7f78f78d67c0>]\n",
      "['/LOG/958D2219/00002501/00000001.MF4', '/LOG/958D2219/00002501/00002081.MF4', '/LOG/958D2219/00002501/00002082.MF4']\n"
     ]
    }
   ],
   "source": [
    "#  load, DBC decode and print MF4 log files\n",
    "\n",
    "# devices MF4 파일을 넣는곳\n",
    "devices = [\"LOG/958D2219\"]\n",
    "# dbc_paths dbc 파일을 넣는곳\n",
    "\n",
    "dbc_paths = [\"dbc_files/CSS-Electronics-OBD2-v1.4.dbc\"]\n",
    "# devices = [\"LOG/test\"]\n",
    "# dbc_paths = [\"dbc_files/tp_j1939.dbc\"]\n",
    "\n",
    "db_list = load_dbc_files(dbc_paths)\n",
    "fs = setup_fs(s3=False, key=\"\", secret=\"\", endpoint=\"\")\n",
    "\n",
    "log_files = canedge_browser.get_log_files(fs, devices)\n",
    "\n",
    "print(db_list)\n",
    "print(log_files)\n",
    "proc = ProcessData(fs, db_list)\n",
    "\n",
    "df_phys_all = pd.DataFrame()\n",
    "\n",
    "\n",
    "# for log_file in log_files:\n",
    "#    df_raw,df_id = proc.get_raw_data(log_file)\n",
    "#    df_phys = proc.extract_phys(df_raw)\n",
    "#    print(df_phys)\n"
   ]
  },
  {
   "cell_type": "code",
   "execution_count": 97,
   "metadata": {},
   "outputs": [],
   "source": [
    "# setup filesystem (local/S3), load DBC files and list log files for processing\n",
    "fs = setup_fs(s3=False, key=\"\", secret=\"\", endpoint=\"\")\n"
   ]
  },
  {
   "cell_type": "code",
   "execution_count": 98,
   "metadata": {},
   "outputs": [
    {
     "name": "stdout",
     "output_type": "stream",
     "text": [
      "Found a total of 3 log files\n",
      "[<can_decoder.SignalDB.SignalDB object at 0x7f78f79181f0>]\n",
      "['/LOG/958D2219/00002501/00000001.MF4', '/LOG/958D2219/00002501/00002081.MF4', '/LOG/958D2219/00002501/00002082.MF4']\n"
     ]
    }
   ],
   "source": [
    "# 리스트형태로 입력한 dbc 파일경로를 받아 list를 생성합니다\n",
    "db_list = load_dbc_files(dbc_paths)\n",
    "# canedge_browser.get_log_files는 조건에 맞는 로그 파일 경로를 List로 반환합니다.\n",
    "log_files = canedge_browser.get_log_files(fs, devices)\n",
    "print(f\"Found a total of {len(log_files)} log files\")\n",
    "\n",
    "print(db_list)\n",
    "print(log_files)\n"
   ]
  },
  {
   "cell_type": "code",
   "execution_count": 99,
   "metadata": {},
   "outputs": [],
   "source": [
    "proc = ProcessData(fs, db_list, signals=[])\n",
    "\n",
    "# 데이터 프레임을 먼저만든뒤\n",
    "df_phys_all = pd.DataFrame()\n"
   ]
  },
  {
   "cell_type": "code",
   "execution_count": 113,
   "metadata": {},
   "outputs": [
    {
     "name": "stdout",
     "output_type": "stream",
     "text": [
      "\n",
      "--------------- \n",
      "Device: 2C4E8905 | Log file: /LOG/958D2219/00002501/00000001.MF4 [Extracted 378 decoded frames]\n",
      "Period: 2022-06-13 08:14:53.515350+00:00 - 2022-06-13 08:15:56.004600+00:00\n",
      "\n",
      "\n",
      "--------------- \n",
      "Device: 958D2219 | Log file: /00002501/00002081.MF4 [Extracted 0 decoded frames]\n",
      "Period: nan - nan\n",
      "\n",
      "\n",
      "--------------- \n",
      "Device: 958D2219 | Log file: /00002501/00002082.MF4 [Extracted 0 decoded frames]\n",
      "Period: nan - nan\n",
      "\n"
     ]
    }
   ],
   "source": [
    "# 로그파일 리스트의 데이터를 불러와 데이터프레임에 append\n",
    "for log_file in log_files:\n",
    "    # .get_raw_data 는 df_raw 값과 device_id 값 리턴\n",
    "    df_raw,device_id = proc.get_raw_data(log_file)\n",
    "    df_phys = proc.extract_phys(df_raw)\n",
    "    proc.print_log_summary(device_id,log_file,df_phys)\n",
    "    df_phys_all = df_phys_all.append(df_phys)\n",
    "\n"
   ]
  },
  {
   "cell_type": "code",
   "execution_count": 101,
   "metadata": {},
   "outputs": [
    {
     "name": "stdout",
     "output_type": "stream",
     "text": [
      "<class 'pandas.core.frame.DataFrame'>\n",
      "DatetimeIndex: 378 entries, 2022-06-13 08:14:53.515350+00:00 to 2022-06-13 08:15:56.004600+00:00\n",
      "Data columns (total 4 columns):\n",
      " #   Column          Non-Null Count  Dtype  \n",
      "---  ------          --------------  -----  \n",
      " 0   CAN ID          378 non-null    uint32 \n",
      " 1   Signal          378 non-null    object \n",
      " 2   Raw Value       378 non-null    uint16 \n",
      " 3   Physical Value  378 non-null    float64\n",
      "dtypes: float64(1), object(1), uint16(1), uint32(1)\n",
      "memory usage: 11.1+ KB\n"
     ]
    }
   ],
   "source": [
    "# df.info 는 함수의 전체정보를 요약해서 출력합니다.\n",
    "df_phys_all.info()"
   ]
  },
  {
   "cell_type": "code",
   "execution_count": 102,
   "metadata": {},
   "outputs": [
    {
     "data": {
      "text/html": [
       "<div>\n",
       "<style scoped>\n",
       "    .dataframe tbody tr th:only-of-type {\n",
       "        vertical-align: middle;\n",
       "    }\n",
       "\n",
       "    .dataframe tbody tr th {\n",
       "        vertical-align: top;\n",
       "    }\n",
       "\n",
       "    .dataframe thead th {\n",
       "        text-align: right;\n",
       "    }\n",
       "</style>\n",
       "<table border=\"1\" class=\"dataframe\">\n",
       "  <thead>\n",
       "    <tr style=\"text-align: right;\">\n",
       "      <th></th>\n",
       "      <th>CAN ID</th>\n",
       "      <th>Signal</th>\n",
       "      <th>Raw Value</th>\n",
       "      <th>Physical Value</th>\n",
       "    </tr>\n",
       "    <tr>\n",
       "      <th>TimeStamp</th>\n",
       "      <th></th>\n",
       "      <th></th>\n",
       "      <th></th>\n",
       "      <th></th>\n",
       "    </tr>\n",
       "  </thead>\n",
       "  <tbody>\n",
       "    <tr>\n",
       "      <th>2022-06-13 08:14:53.515350+00:00</th>\n",
       "      <td>2024</td>\n",
       "      <td>S1_PID_0C_EngineRPM</td>\n",
       "      <td>0</td>\n",
       "      <td>0.0</td>\n",
       "    </tr>\n",
       "    <tr>\n",
       "      <th>2022-06-13 08:14:53.515350+00:00</th>\n",
       "      <td>2024</td>\n",
       "      <td>length</td>\n",
       "      <td>4</td>\n",
       "      <td>4.0</td>\n",
       "    </tr>\n",
       "    <tr>\n",
       "      <th>2022-06-13 08:14:53.515350+00:00</th>\n",
       "      <td>2024</td>\n",
       "      <td>response</td>\n",
       "      <td>4</td>\n",
       "      <td>4.0</td>\n",
       "    </tr>\n",
       "    <tr>\n",
       "      <th>2022-06-13 08:14:54.014950+00:00</th>\n",
       "      <td>2024</td>\n",
       "      <td>S1_PID_0C_EngineRPM</td>\n",
       "      <td>0</td>\n",
       "      <td>0.0</td>\n",
       "    </tr>\n",
       "    <tr>\n",
       "      <th>2022-06-13 08:14:54.014950+00:00</th>\n",
       "      <td>2024</td>\n",
       "      <td>length</td>\n",
       "      <td>4</td>\n",
       "      <td>4.0</td>\n",
       "    </tr>\n",
       "  </tbody>\n",
       "</table>\n",
       "</div>"
      ],
      "text/plain": [
       "                                  CAN ID               Signal  Raw Value  \\\n",
       "TimeStamp                                                                  \n",
       "2022-06-13 08:14:53.515350+00:00    2024  S1_PID_0C_EngineRPM          0   \n",
       "2022-06-13 08:14:53.515350+00:00    2024               length          4   \n",
       "2022-06-13 08:14:53.515350+00:00    2024             response          4   \n",
       "2022-06-13 08:14:54.014950+00:00    2024  S1_PID_0C_EngineRPM          0   \n",
       "2022-06-13 08:14:54.014950+00:00    2024               length          4   \n",
       "\n",
       "                                  Physical Value  \n",
       "TimeStamp                                         \n",
       "2022-06-13 08:14:53.515350+00:00             0.0  \n",
       "2022-06-13 08:14:53.515350+00:00             4.0  \n",
       "2022-06-13 08:14:53.515350+00:00             4.0  \n",
       "2022-06-13 08:14:54.014950+00:00             0.0  \n",
       "2022-06-13 08:14:54.014950+00:00             4.0  "
      ]
     },
     "execution_count": 102,
     "metadata": {},
     "output_type": "execute_result"
    }
   ],
   "source": [
    "df_phys_all.head()"
   ]
  },
  {
   "cell_type": "code",
   "execution_count": 103,
   "metadata": {},
   "outputs": [],
   "source": [
    "def ratio(s1,s2):\n",
    "    return s2/s1 if s1 else np.nan"
   ]
  },
  {
   "cell_type": "code",
   "execution_count": 104,
   "metadata": {},
   "outputs": [],
   "source": [
    "# df_phys_all = add_custom_sig(df_phys_all, \"WheelBasedVehicleSpeed\", \"EngineSpeed\", ratio, \"RatioRpmSpeed\")"
   ]
  },
  {
   "cell_type": "code",
   "execution_count": 105,
   "metadata": {},
   "outputs": [
    {
     "data": {
      "text/html": [
       "<div>\n",
       "<style scoped>\n",
       "    .dataframe tbody tr th:only-of-type {\n",
       "        vertical-align: middle;\n",
       "    }\n",
       "\n",
       "    .dataframe tbody tr th {\n",
       "        vertical-align: top;\n",
       "    }\n",
       "\n",
       "    .dataframe thead th {\n",
       "        text-align: right;\n",
       "    }\n",
       "</style>\n",
       "<table border=\"1\" class=\"dataframe\">\n",
       "  <thead>\n",
       "    <tr style=\"text-align: right;\">\n",
       "      <th></th>\n",
       "      <th>CAN ID</th>\n",
       "      <th>Signal</th>\n",
       "      <th>Raw Value</th>\n",
       "      <th>Physical Value</th>\n",
       "    </tr>\n",
       "    <tr>\n",
       "      <th>TimeStamp</th>\n",
       "      <th></th>\n",
       "      <th></th>\n",
       "      <th></th>\n",
       "      <th></th>\n",
       "    </tr>\n",
       "  </thead>\n",
       "  <tbody>\n",
       "    <tr>\n",
       "      <th>2022-06-13 08:15:55.514550+00:00</th>\n",
       "      <td>2024</td>\n",
       "      <td>S1_PID_0C_EngineRPM</td>\n",
       "      <td>0</td>\n",
       "      <td>0.0</td>\n",
       "    </tr>\n",
       "    <tr>\n",
       "      <th>2022-06-13 08:15:55.514550+00:00</th>\n",
       "      <td>2024</td>\n",
       "      <td>response</td>\n",
       "      <td>4</td>\n",
       "      <td>4.0</td>\n",
       "    </tr>\n",
       "    <tr>\n",
       "      <th>2022-06-13 08:15:56.004600+00:00</th>\n",
       "      <td>2024</td>\n",
       "      <td>response</td>\n",
       "      <td>4</td>\n",
       "      <td>4.0</td>\n",
       "    </tr>\n",
       "    <tr>\n",
       "      <th>2022-06-13 08:15:56.004600+00:00</th>\n",
       "      <td>2024</td>\n",
       "      <td>S1_PID_0C_EngineRPM</td>\n",
       "      <td>0</td>\n",
       "      <td>0.0</td>\n",
       "    </tr>\n",
       "    <tr>\n",
       "      <th>2022-06-13 08:15:56.004600+00:00</th>\n",
       "      <td>2024</td>\n",
       "      <td>length</td>\n",
       "      <td>4</td>\n",
       "      <td>4.0</td>\n",
       "    </tr>\n",
       "  </tbody>\n",
       "</table>\n",
       "</div>"
      ],
      "text/plain": [
       "                                  CAN ID               Signal  Raw Value  \\\n",
       "TimeStamp                                                                  \n",
       "2022-06-13 08:15:55.514550+00:00    2024  S1_PID_0C_EngineRPM          0   \n",
       "2022-06-13 08:15:55.514550+00:00    2024             response          4   \n",
       "2022-06-13 08:15:56.004600+00:00    2024             response          4   \n",
       "2022-06-13 08:15:56.004600+00:00    2024  S1_PID_0C_EngineRPM          0   \n",
       "2022-06-13 08:15:56.004600+00:00    2024               length          4   \n",
       "\n",
       "                                  Physical Value  \n",
       "TimeStamp                                         \n",
       "2022-06-13 08:15:55.514550+00:00             0.0  \n",
       "2022-06-13 08:15:55.514550+00:00             4.0  \n",
       "2022-06-13 08:15:56.004600+00:00             4.0  \n",
       "2022-06-13 08:15:56.004600+00:00             0.0  \n",
       "2022-06-13 08:15:56.004600+00:00             4.0  "
      ]
     },
     "execution_count": 105,
     "metadata": {},
     "output_type": "execute_result"
    }
   ],
   "source": [
    "df_phys_all.tail()\n"
   ]
  },
  {
   "cell_type": "code",
   "execution_count": 106,
   "metadata": {},
   "outputs": [
    {
     "data": {
      "text/html": [
       "<div>\n",
       "<style scoped>\n",
       "    .dataframe tbody tr th:only-of-type {\n",
       "        vertical-align: middle;\n",
       "    }\n",
       "\n",
       "    .dataframe tbody tr th {\n",
       "        vertical-align: top;\n",
       "    }\n",
       "\n",
       "    .dataframe thead th {\n",
       "        text-align: right;\n",
       "    }\n",
       "</style>\n",
       "<table border=\"1\" class=\"dataframe\">\n",
       "  <thead>\n",
       "    <tr style=\"text-align: right;\">\n",
       "      <th></th>\n",
       "      <th>S1_PID_0C_EngineRPM</th>\n",
       "      <th>length</th>\n",
       "      <th>response</th>\n",
       "    </tr>\n",
       "    <tr>\n",
       "      <th>TimeStamp</th>\n",
       "      <th></th>\n",
       "      <th></th>\n",
       "      <th></th>\n",
       "    </tr>\n",
       "  </thead>\n",
       "  <tbody>\n",
       "    <tr>\n",
       "      <th>2022-06-13 08:14:54+00:00</th>\n",
       "      <td>0.0</td>\n",
       "      <td>4.0</td>\n",
       "      <td>4.0</td>\n",
       "    </tr>\n",
       "    <tr>\n",
       "      <th>2022-06-13 08:14:55+00:00</th>\n",
       "      <td>0.0</td>\n",
       "      <td>4.0</td>\n",
       "      <td>4.0</td>\n",
       "    </tr>\n",
       "    <tr>\n",
       "      <th>2022-06-13 08:14:56+00:00</th>\n",
       "      <td>0.0</td>\n",
       "      <td>4.0</td>\n",
       "      <td>4.0</td>\n",
       "    </tr>\n",
       "    <tr>\n",
       "      <th>2022-06-13 08:14:57+00:00</th>\n",
       "      <td>0.0</td>\n",
       "      <td>4.0</td>\n",
       "      <td>4.0</td>\n",
       "    </tr>\n",
       "    <tr>\n",
       "      <th>2022-06-13 08:14:58+00:00</th>\n",
       "      <td>0.0</td>\n",
       "      <td>4.0</td>\n",
       "      <td>4.0</td>\n",
       "    </tr>\n",
       "    <tr>\n",
       "      <th>...</th>\n",
       "      <td>...</td>\n",
       "      <td>...</td>\n",
       "      <td>...</td>\n",
       "    </tr>\n",
       "    <tr>\n",
       "      <th>2022-06-13 08:15:52+00:00</th>\n",
       "      <td>1601.0</td>\n",
       "      <td>4.0</td>\n",
       "      <td>4.0</td>\n",
       "    </tr>\n",
       "    <tr>\n",
       "      <th>2022-06-13 08:15:53+00:00</th>\n",
       "      <td>1400.0</td>\n",
       "      <td>4.0</td>\n",
       "      <td>4.0</td>\n",
       "    </tr>\n",
       "    <tr>\n",
       "      <th>2022-06-13 08:15:54+00:00</th>\n",
       "      <td>1346.0</td>\n",
       "      <td>4.0</td>\n",
       "      <td>4.0</td>\n",
       "    </tr>\n",
       "    <tr>\n",
       "      <th>2022-06-13 08:15:55+00:00</th>\n",
       "      <td>415.0</td>\n",
       "      <td>4.0</td>\n",
       "      <td>4.0</td>\n",
       "    </tr>\n",
       "    <tr>\n",
       "      <th>2022-06-13 08:15:56+00:00</th>\n",
       "      <td>0.0</td>\n",
       "      <td>4.0</td>\n",
       "      <td>4.0</td>\n",
       "    </tr>\n",
       "  </tbody>\n",
       "</table>\n",
       "<p>63 rows × 3 columns</p>\n",
       "</div>"
      ],
      "text/plain": [
       "                           S1_PID_0C_EngineRPM  length  response\n",
       "TimeStamp                                                       \n",
       "2022-06-13 08:14:54+00:00                  0.0     4.0       4.0\n",
       "2022-06-13 08:14:55+00:00                  0.0     4.0       4.0\n",
       "2022-06-13 08:14:56+00:00                  0.0     4.0       4.0\n",
       "2022-06-13 08:14:57+00:00                  0.0     4.0       4.0\n",
       "2022-06-13 08:14:58+00:00                  0.0     4.0       4.0\n",
       "...                                        ...     ...       ...\n",
       "2022-06-13 08:15:52+00:00               1601.0     4.0       4.0\n",
       "2022-06-13 08:15:53+00:00               1400.0     4.0       4.0\n",
       "2022-06-13 08:15:54+00:00               1346.0     4.0       4.0\n",
       "2022-06-13 08:15:55+00:00                415.0     4.0       4.0\n",
       "2022-06-13 08:15:56+00:00                  0.0     4.0       4.0\n",
       "\n",
       "[63 rows x 3 columns]"
      ]
     },
     "execution_count": 106,
     "metadata": {},
     "output_type": "execute_result"
    }
   ],
   "source": [
    "# 위의 데이터프레임을 재구조화 후 csv 파일로내보내기\n",
    "df_phys_join = restructure_data(df_phys=df_phys_all, res=\"1S\")\n",
    "df_phys_join\n",
    "# df_phys_join.to_csv(\"output_joined.csv\")\n",
    "\n"
   ]
  },
  {
   "cell_type": "code",
   "execution_count": 107,
   "metadata": {},
   "outputs": [
    {
     "data": {
      "image/png": "[encoded data removed]",
      "text/plain": [
       "<Figure size 432x288 with 1 Axes>"
      ]
     },
     "metadata": {
      "needs_background": "light"
     },
     "output_type": "display_data"
    }
   ],
   "source": [
    "# 엔진속도를 시각화 \n",
    "import matplotlib.pyplot as plt\n",
    "\n",
    "plt.plot(df_phys_join[\"S1_PID_0C_EngineRPM\"])\n",
    "plt.xlabel(\"Time\")\n",
    "plt.ylabel(\"EngineRPM\")\n",
    "# plt.legend(\"E\")\n",
    "plt.show()"
   ]
  }
 ],
 "metadata": {
  "kernelspec": {
   "display_name": "Python 3.8.10 64-bit",
   "language": "python",
   "name": "python3"
  },
  "language_info": {
   "codemirror_mode": {
    "name": "ipython",
    "version": 3
   },
   "file_extension": ".py",
   "mimetype": "text/x-python",
   "name": "python",
   "nbconvert_exporter": "python",
   "pygments_lexer": "ipython3",
   "version": "3.8.10"
  },
  "orig_nbformat": 4,
  "vscode": {
   "interpreter": {
    "hash": "916dbcbb3f70747c44a77c7bcd40155683ae19c65e1c03b4aa3499c5328201f1"
   }
  }
 },
 "nbformat": 4,
 "nbformat_minor": 2
}
