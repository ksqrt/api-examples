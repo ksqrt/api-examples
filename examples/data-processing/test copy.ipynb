{
 "cells": [
  {
   "cell_type": "code",
   "execution_count": 4,
   "metadata": {},
   "outputs": [],
   "source": [
    "import mdf_iter               # MDF4 데이터 불러오는 라이브러리\n",
    "import canedge_browser        # 로컬 또는 S3에 저장된 데이터 가져오는 라이브러리\n",
    "import can_decoder            # 데이터를 복호화하는 라이브러리\n",
    "import numpy as np\n",
    "import pandas as pd           # 데이터분석 라이브러리\n",
    "from datetime import datetime, timezone  # 날짜와 시간 데이터를 가져올 수 있는 파이썬 라이브러리\n",
    "from utils import setup_fs, load_dbc_files, restructure_data, add_custom_sig, ProcessData # 폴더 내 위치한 Custom 라이브러리"
   ]
  },
  {
   "cell_type": "code",
   "execution_count": 5,
   "metadata": {},
   "outputs": [],
   "source": [
    "# specify devices to process (from local/S3), DBC files and start time\n",
    "# devices = [\"LOG/test\"]\n",
    "# dbc_paths = [\"dbc_files/CSS-Electronics-OBD2-v1.4.dbc\"]\n",
    "# s3 또는 로컬에 저장한 파일을 불러옵니다. \n",
    "# 만약 s3에 저장한 경우라면, s3=True를 입력합니다.\n",
    "\n",
    "# 시작시간\n",
    "start = datetime(year=2020, month=1, day=13, hour=0, tzinfo=timezone.utc)"
   ]
  },
  {
   "cell_type": "code",
   "execution_count": 6,
   "metadata": {},
   "outputs": [
    {
     "name": "stdout",
     "output_type": "stream",
     "text": [
      "[<can_decoder.SignalDB.SignalDB object at 0x7fc7105439d0>]\n",
      "[]\n"
     ]
    }
   ],
   "source": [
    "#  load, DBC decode and print MF4 log files\n",
    "\n",
    "# devices MF4 파일을 넣는곳\n",
    "devices = [\"LOG/958D2219\"]\n",
    "# dbc_paths dbc 파일을 넣는곳\n",
    "\n",
    "dbc_paths = [\"dbc_files/CSS-Electronics-OBD2-v1.4.dbc\"]\n",
    "# devices = [\"LOG/test\"]\n",
    "# dbc_paths = [\"dbc_files/tp_j1939.dbc\"]\n",
    "\n",
    "db_list = load_dbc_files(dbc_paths)\n",
    "fs = setup_fs(s3=False, key=\"\", secret=\"\", endpoint=\"\")\n",
    "\n",
    "log_files = canedge_browser.get_log_files(fs, devices)\n",
    "\n",
    "print(db_list)\n",
    "print(log_files)\n",
    "proc = ProcessData(fs, db_list)\n",
    "\n",
    "df_phys_all = pd.DataFrame()\n",
    "\n",
    "\n",
    "# for log_file in log_files:\n",
    "#    df_raw,df_id = proc.get_raw_data(log_file)\n",
    "#    df_phys = proc.extract_phys(df_raw)\n",
    "#    print(df_phys)\n"
   ]
  },
  {
   "cell_type": "code",
   "execution_count": 7,
   "metadata": {},
   "outputs": [],
   "source": [
    "# setup filesystem (local/S3), load DBC files and list log files for processing\n",
    "fs = setup_fs(s3=False, key=\"\", secret=\"\", endpoint=\"\")\n"
   ]
  },
  {
   "cell_type": "code",
   "execution_count": 8,
   "metadata": {},
   "outputs": [
    {
     "name": "stdout",
     "output_type": "stream",
     "text": [
      "Found a total of 0 log files\n",
      "[<can_decoder.SignalDB.SignalDB object at 0x7fc6e8abf4f0>]\n",
      "[]\n"
     ]
    }
   ],
   "source": [
    "# 리스트형태로 입력한 dbc 파일경로를 받아 list를 생성합니다\n",
    "db_list = load_dbc_files(dbc_paths)\n",
    "# canedge_browser.get_log_files는 조건에 맞는 로그 파일 경로를 List로 반환합니다.\n",
    "log_files = canedge_browser.get_log_files(fs, devices)\n",
    "print(f\"Found a total of {len(log_files)} log files\")\n",
    "\n",
    "print(db_list)\n",
    "print(log_files)\n"
   ]
  },
  {
   "cell_type": "code",
   "execution_count": 9,
   "metadata": {},
   "outputs": [],
   "source": [
    "proc = ProcessData(fs, db_list, signals=[])\n",
    "\n",
    "# 데이터 프레임을 먼저만든뒤\n",
    "df_phys_all = pd.DataFrame()\n"
   ]
  },
  {
   "cell_type": "code",
   "execution_count": 10,
   "metadata": {},
   "outputs": [],
   "source": [
    "# 로그파일 리스트의 데이터를 불러와 데이터프레임에 append\n",
    "for log_file in log_files:\n",
    "    # .get_raw_data 는 df_raw 값과 device_id 값 리턴\n",
    "    df_raw,device_id = proc.get_raw_data(log_file)\n",
    "    df_phys = proc.extract_phys(df_raw)\n",
    "    proc.print_log_summary(device_id,log_file,df_phys)\n",
    "    df_phys_all = df_phys_all.append(df_phys)\n",
    "\n"
   ]
  },
  {
   "cell_type": "code",
   "execution_count": 11,
   "metadata": {},
   "outputs": [
    {
     "name": "stdout",
     "output_type": "stream",
     "text": [
      "<class 'pandas.core.frame.DataFrame'>\n",
      "Index: 0 entries\n",
      "Empty DataFrame"
     ]
    }
   ],
   "source": [
    "# df.info 는 함수의 전체정보를 요약해서 출력합니다.\n",
    "df_phys_all.info()"
   ]
  },
  {
   "cell_type": "code",
   "execution_count": 12,
   "metadata": {},
   "outputs": [
    {
     "data": {
      "text/html": [
       "<div>\n",
       "<style scoped>\n",
       "    .dataframe tbody tr th:only-of-type {\n",
       "        vertical-align: middle;\n",
       "    }\n",
       "\n",
       "    .dataframe tbody tr th {\n",
       "        vertical-align: top;\n",
       "    }\n",
       "\n",
       "    .dataframe thead th {\n",
       "        text-align: right;\n",
       "    }\n",
       "</style>\n",
       "<table border=\"1\" class=\"dataframe\">\n",
       "  <thead>\n",
       "    <tr style=\"text-align: right;\">\n",
       "      <th></th>\n",
       "    </tr>\n",
       "  </thead>\n",
       "  <tbody>\n",
       "  </tbody>\n",
       "</table>\n",
       "</div>"
      ],
      "text/plain": [
       "Empty DataFrame\n",
       "Columns: []\n",
       "Index: []"
      ]
     },
     "execution_count": 12,
     "metadata": {},
     "output_type": "execute_result"
    }
   ],
   "source": [
    "df_phys_all.head()"
   ]
  },
  {
   "cell_type": "code",
   "execution_count": 13,
   "metadata": {},
   "outputs": [],
   "source": [
    "# def ratio(s1,s2):\n",
    "#     return s2/s1 if s1 else np.nan"
   ]
  },
  {
   "cell_type": "code",
   "execution_count": 14,
   "metadata": {},
   "outputs": [],
   "source": [
    "# df_phys_all = add_custom_sig(df_phys_all, \"WheelBasedVehicleSpeed\", \"EngineSpeed\", ratio, \"RatioRpmSpeed\")"
   ]
  },
  {
   "cell_type": "code",
   "execution_count": 15,
   "metadata": {},
   "outputs": [
    {
     "data": {
      "text/html": [
       "<div>\n",
       "<style scoped>\n",
       "    .dataframe tbody tr th:only-of-type {\n",
       "        vertical-align: middle;\n",
       "    }\n",
       "\n",
       "    .dataframe tbody tr th {\n",
       "        vertical-align: top;\n",
       "    }\n",
       "\n",
       "    .dataframe thead th {\n",
       "        text-align: right;\n",
       "    }\n",
       "</style>\n",
       "<table border=\"1\" class=\"dataframe\">\n",
       "  <thead>\n",
       "    <tr style=\"text-align: right;\">\n",
       "      <th></th>\n",
       "    </tr>\n",
       "  </thead>\n",
       "  <tbody>\n",
       "  </tbody>\n",
       "</table>\n",
       "</div>"
      ],
      "text/plain": [
       "Empty DataFrame\n",
       "Columns: []\n",
       "Index: []"
      ]
     },
     "execution_count": 15,
     "metadata": {},
     "output_type": "execute_result"
    }
   ],
   "source": [
    "df_phys_all.tail()"
   ]
  },
  {
   "cell_type": "code",
   "execution_count": 16,
   "metadata": {},
   "outputs": [
    {
     "data": {
      "text/html": [
       "<div>\n",
       "<style scoped>\n",
       "    .dataframe tbody tr th:only-of-type {\n",
       "        vertical-align: middle;\n",
       "    }\n",
       "\n",
       "    .dataframe tbody tr th {\n",
       "        vertical-align: top;\n",
       "    }\n",
       "\n",
       "    .dataframe thead th {\n",
       "        text-align: right;\n",
       "    }\n",
       "</style>\n",
       "<table border=\"1\" class=\"dataframe\">\n",
       "  <thead>\n",
       "    <tr style=\"text-align: right;\">\n",
       "      <th></th>\n",
       "      <th>TimeStamp</th>\n",
       "    </tr>\n",
       "  </thead>\n",
       "  <tbody>\n",
       "  </tbody>\n",
       "</table>\n",
       "</div>"
      ],
      "text/plain": [
       "Empty DataFrame\n",
       "Columns: [TimeStamp]\n",
       "Index: []"
      ]
     },
     "execution_count": 16,
     "metadata": {},
     "output_type": "execute_result"
    }
   ],
   "source": [
    "# 위의 데이터프레임을 재구조화 후 csv 파일로내보내기\n",
    "df_phys_join = restructure_data(df_phys=df_phys_all, res=\"1S\")\n",
    "df_phys_join\n",
    "# df_phys_join.to_csv(\"output_joined.csv\")\n",
    "\n"
   ]
  },
  {
   "cell_type": "code",
   "execution_count": 17,
   "metadata": {},
   "outputs": [
    {
     "ename": "KeyError",
     "evalue": "'S1_PID_0C_EngineRPM'",
     "output_type": "error",
     "traceback": [
      "\u001b[0;31m---------------------------------------------------------------------------\u001b[0m",
      "\u001b[0;31mKeyError\u001b[0m                                  Traceback (most recent call last)",
      "File \u001b[0;32m~/.local/lib/python3.8/site-packages/pandas/core/indexes/base.py:3080\u001b[0m, in \u001b[0;36mIndex.get_loc\u001b[0;34m(self, key, method, tolerance)\u001b[0m\n\u001b[1;32m   3079\u001b[0m \u001b[39mtry\u001b[39;00m:\n\u001b[0;32m-> 3080\u001b[0m     \u001b[39mreturn\u001b[39;00m \u001b[39mself\u001b[39;49m\u001b[39m.\u001b[39;49m_engine\u001b[39m.\u001b[39;49mget_loc(casted_key)\n\u001b[1;32m   3081\u001b[0m \u001b[39mexcept\u001b[39;00m \u001b[39mKeyError\u001b[39;00m \u001b[39mas\u001b[39;00m err:\n",
      "File \u001b[0;32mpandas/_libs/index.pyx:70\u001b[0m, in \u001b[0;36mpandas._libs.index.IndexEngine.get_loc\u001b[0;34m()\u001b[0m\n",
      "File \u001b[0;32mpandas/_libs/index.pyx:101\u001b[0m, in \u001b[0;36mpandas._libs.index.IndexEngine.get_loc\u001b[0;34m()\u001b[0m\n",
      "File \u001b[0;32mpandas/_libs/hashtable_class_helper.pxi:4554\u001b[0m, in \u001b[0;36mpandas._libs.hashtable.PyObjectHashTable.get_item\u001b[0;34m()\u001b[0m\n",
      "File \u001b[0;32mpandas/_libs/hashtable_class_helper.pxi:4562\u001b[0m, in \u001b[0;36mpandas._libs.hashtable.PyObjectHashTable.get_item\u001b[0;34m()\u001b[0m\n",
      "\u001b[0;31mKeyError\u001b[0m: 'S1_PID_0C_EngineRPM'",
      "\nThe above exception was the direct cause of the following exception:\n",
      "\u001b[0;31mKeyError\u001b[0m                                  Traceback (most recent call last)",
      "\u001b[1;32m/home/test/api-examples/examples/data-processing/test copy.ipynb Cell 14'\u001b[0m in \u001b[0;36m<cell line: 4>\u001b[0;34m()\u001b[0m\n\u001b[1;32m      <a href='vscode-notebook-cell://ssh-remote%2B7b22686f73744e616d65223a223130302e3130302e3130302e31222c2275736572223a2274657374227d/home/test/api-examples/examples/data-processing/test%20copy.ipynb#ch0000013vscode-remote?line=0'>1</a>\u001b[0m \u001b[39m# 엔진속도를 시각화 \u001b[39;00m\n\u001b[1;32m      <a href='vscode-notebook-cell://ssh-remote%2B7b22686f73744e616d65223a223130302e3130302e3130302e31222c2275736572223a2274657374227d/home/test/api-examples/examples/data-processing/test%20copy.ipynb#ch0000013vscode-remote?line=1'>2</a>\u001b[0m \u001b[39mimport\u001b[39;00m \u001b[39mmatplotlib\u001b[39;00m\u001b[39m.\u001b[39;00m\u001b[39mpyplot\u001b[39;00m \u001b[39mas\u001b[39;00m \u001b[39mplt\u001b[39;00m\n\u001b[0;32m----> <a href='vscode-notebook-cell://ssh-remote%2B7b22686f73744e616d65223a223130302e3130302e3130302e31222c2275736572223a2274657374227d/home/test/api-examples/examples/data-processing/test%20copy.ipynb#ch0000013vscode-remote?line=3'>4</a>\u001b[0m plt\u001b[39m.\u001b[39mplot(df_phys_join[\u001b[39m\"\u001b[39;49m\u001b[39mS1_PID_0C_EngineRPM\u001b[39;49m\u001b[39m\"\u001b[39;49m])\n\u001b[1;32m      <a href='vscode-notebook-cell://ssh-remote%2B7b22686f73744e616d65223a223130302e3130302e3130302e31222c2275736572223a2274657374227d/home/test/api-examples/examples/data-processing/test%20copy.ipynb#ch0000013vscode-remote?line=4'>5</a>\u001b[0m plt\u001b[39m.\u001b[39mxlabel(\u001b[39m\"\u001b[39m\u001b[39mTime\u001b[39m\u001b[39m\"\u001b[39m)\n\u001b[1;32m      <a href='vscode-notebook-cell://ssh-remote%2B7b22686f73744e616d65223a223130302e3130302e3130302e31222c2275736572223a2274657374227d/home/test/api-examples/examples/data-processing/test%20copy.ipynb#ch0000013vscode-remote?line=5'>6</a>\u001b[0m plt\u001b[39m.\u001b[39mylabel(\u001b[39m\"\u001b[39m\u001b[39mEngineRPM\u001b[39m\u001b[39m\"\u001b[39m)\n",
      "File \u001b[0;32m~/.local/lib/python3.8/site-packages/pandas/core/frame.py:3024\u001b[0m, in \u001b[0;36mDataFrame.__getitem__\u001b[0;34m(self, key)\u001b[0m\n\u001b[1;32m   3022\u001b[0m \u001b[39mif\u001b[39;00m \u001b[39mself\u001b[39m\u001b[39m.\u001b[39mcolumns\u001b[39m.\u001b[39mnlevels \u001b[39m>\u001b[39m \u001b[39m1\u001b[39m:\n\u001b[1;32m   3023\u001b[0m     \u001b[39mreturn\u001b[39;00m \u001b[39mself\u001b[39m\u001b[39m.\u001b[39m_getitem_multilevel(key)\n\u001b[0;32m-> 3024\u001b[0m indexer \u001b[39m=\u001b[39m \u001b[39mself\u001b[39;49m\u001b[39m.\u001b[39;49mcolumns\u001b[39m.\u001b[39;49mget_loc(key)\n\u001b[1;32m   3025\u001b[0m \u001b[39mif\u001b[39;00m is_integer(indexer):\n\u001b[1;32m   3026\u001b[0m     indexer \u001b[39m=\u001b[39m [indexer]\n",
      "File \u001b[0;32m~/.local/lib/python3.8/site-packages/pandas/core/indexes/base.py:3082\u001b[0m, in \u001b[0;36mIndex.get_loc\u001b[0;34m(self, key, method, tolerance)\u001b[0m\n\u001b[1;32m   3080\u001b[0m         \u001b[39mreturn\u001b[39;00m \u001b[39mself\u001b[39m\u001b[39m.\u001b[39m_engine\u001b[39m.\u001b[39mget_loc(casted_key)\n\u001b[1;32m   3081\u001b[0m     \u001b[39mexcept\u001b[39;00m \u001b[39mKeyError\u001b[39;00m \u001b[39mas\u001b[39;00m err:\n\u001b[0;32m-> 3082\u001b[0m         \u001b[39mraise\u001b[39;00m \u001b[39mKeyError\u001b[39;00m(key) \u001b[39mfrom\u001b[39;00m \u001b[39merr\u001b[39;00m\n\u001b[1;32m   3084\u001b[0m \u001b[39mif\u001b[39;00m tolerance \u001b[39mis\u001b[39;00m \u001b[39mnot\u001b[39;00m \u001b[39mNone\u001b[39;00m:\n\u001b[1;32m   3085\u001b[0m     tolerance \u001b[39m=\u001b[39m \u001b[39mself\u001b[39m\u001b[39m.\u001b[39m_convert_tolerance(tolerance, np\u001b[39m.\u001b[39masarray(key))\n",
      "\u001b[0;31mKeyError\u001b[0m: 'S1_PID_0C_EngineRPM'"
     ]
    }
   ],
   "source": [
    "# 엔진속도를 시각화 \n",
    "import matplotlib.pyplot as plt\n",
    "\n",
    "plt.plot(df_phys_join[\"S1_PID_0C_EngineRPM\"])\n",
    "plt.xlabel(\"Time\")\n",
    "plt.ylabel(\"EngineRPM\")\n",
    "plt.legend(\"E\")\n",
    "plt.show()"
   ]
  }
 ],
 "metadata": {
  "kernelspec": {
   "display_name": "Python 3.8.10 64-bit",
   "language": "python",
   "name": "python3"
  },
  "language_info": {
   "codemirror_mode": {
    "name": "ipython",
    "version": 3
   },
   "file_extension": ".py",
   "mimetype": "text/x-python",
   "name": "python",
   "nbconvert_exporter": "python",
   "pygments_lexer": "ipython3",
   "version": "3.8.10"
  },
  "orig_nbformat": 4,
  "vscode": {
   "interpreter": {
    "hash": "916dbcbb3f70747c44a77c7bcd40155683ae19c65e1c03b4aa3499c5328201f1"
   }
  }
 },
 "nbformat": 4,
 "nbformat_minor": 2
}
