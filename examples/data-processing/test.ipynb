{
 "cells": [
  {
   "cell_type": "code",
   "execution_count": 38,
   "metadata": {},
   "outputs": [],
   "source": [
    "import mdf_iter               # MDF4 데이터 불러오는 라이브러리\n",
    "import canedge_browser        # 로컬 또는 S3에 저장된 데이터 가져오는 라이브러리\n",
    "import can_decoder            # 데이터를 복호화하는 라이브러리\n",
    "import numpy as np\n",
    "import pandas as pd           # 데이터분석 라이브러리\n",
    "from datetime import datetime, timezone  # 날짜와 시간 데이터를 가져올 수 있는 파이썬 라이브러리\n",
    "from utils import setup_fs, load_dbc_files, restructure_data, add_custom_sig, ProcessData # 폴더 내 위치한 Custom 라이브러리"
   ]
  },
  {
   "cell_type": "code",
   "execution_count": 7,
   "metadata": {},
   "outputs": [],
   "source": [
    "# specify devices to process (from local/S3), DBC files and start time\n",
    "devices = [\"LOG/958D2219\"]\n",
    "dbc_paths = [\"dbc_files/CSS-Electronics-SAE-J1939-DEMO.dbc\"]\n",
    "# s3 또는 로컬에 저장한 파일을 불러옵니다. \n",
    "# 만약 s3에 저장한 경우라면, s3=True를 입력합니다.\n",
    "\n",
    "# 시작시간\n",
    "start = datetime(year=2020, month=1, day=13, hour=0, tzinfo=timezone.utc)"
   ]
  },
  {
   "cell_type": "code",
   "execution_count": 9,
   "metadata": {},
   "outputs": [],
   "source": [
    "# setup filesystem (local/S3), load DBC files and list log files for processing\n",
    "fs = setup_fs(s3=False, key=\"\", secret=\"\", endpoint=\"\")\n"
   ]
  },
  {
   "cell_type": "code",
   "execution_count": 16,
   "metadata": {},
   "outputs": [
    {
     "name": "stdout",
     "output_type": "stream",
     "text": [
      "Found a total of 2 log files\n",
      "[<can_decoder.SignalDB.SignalDB object at 0x000001B31814BB08>]\n",
      "['/LOG/958D2219/00002501/00002081.MF4', '/LOG/958D2219/00002501/00002082.MF4']\n"
     ]
    }
   ],
   "source": [
    "# 리스트형태로 입력한 dbc 파일경로를 받아 list를 생성합니다\n",
    "db_list = load_dbc_files(dbc_paths)\n",
    "# canedge_browser.get_log_files는 조건에 맞는 로그 파일 경로를 List로 반환합니다.\n",
    "log_files = canedge_browser.get_log_files(fs, devices, start_date=start)\n",
    "print(f\"Found a total of {len(log_files)} log files\")\n",
    "\n",
    "print(db_list)\n",
    "print(log_files)\n"
   ]
  },
  {
   "cell_type": "code",
   "execution_count": 20,
   "metadata": {},
   "outputs": [],
   "source": [
    "proc = ProcessData(fs, db_list, signals=[])\n",
    "\n",
    "# 데이터 프레임을 먼저만든뒤\n",
    "df_phys_all = pd.DataFrame()\n"
   ]
  },
  {
   "cell_type": "code",
   "execution_count": 28,
   "metadata": {},
   "outputs": [
    {
     "name": "stdout",
     "output_type": "stream",
     "text": [
      "\n",
      "--------------- \n",
      "Device: 958D2219 | Log file: /00002501/00002081.MF4 [Extracted 21542 decoded frames]\n",
      "Period: 2020-01-13 14:47:09.816750+00:00 - 2020-01-13 14:50:25.659800+00:00\n",
      "\n",
      "\n",
      "--------------- \n",
      "Device: 958D2219 | Log file: /00002501/00002082.MF4 [Extracted 21542 decoded frames]\n",
      "Period: 2020-01-13 14:50:25.670250+00:00 - 2020-01-13 14:53:41.502950+00:00\n",
      "\n"
     ]
    }
   ],
   "source": [
    "# 로그파일 리스트의 데이터를 불러와 데이터프레임에 append\n",
    "for log_file in log_files:\n",
    "    # .get_raw_data 는 df_raw 값과 device_id 값 리턴\n",
    "    df_raw,device_id = proc.get_raw_data(log_file)\n",
    "    df_phys = proc.extract_phys(df_raw)\n",
    "    proc.print_log_summary(device_id,log_file,df_phys)\n",
    "    df_phys_all = df_phys_all.append(df_phys)\n",
    "    "
   ]
  },
  {
   "cell_type": "code",
   "execution_count": 30,
   "metadata": {},
   "outputs": [
    {
     "name": "stdout",
     "output_type": "stream",
     "text": [
      "<class 'pandas.core.frame.DataFrame'>\n",
      "DatetimeIndex: 344672 entries, 2020-01-13 14:47:09.816750+00:00 to 2020-01-13 14:53:41.502950+00:00\n",
      "Data columns (total 6 columns):\n",
      " #   Column          Non-Null Count   Dtype  \n",
      "---  ------          --------------   -----  \n",
      " 0   CAN ID          344672 non-null  uint32 \n",
      " 1   PGN             344672 non-null  int64  \n",
      " 2   Source Address  344672 non-null  uint32 \n",
      " 3   Signal          344672 non-null  object \n",
      " 4   Raw Value       344672 non-null  uint16 \n",
      " 5   Physical Value  344672 non-null  float64\n",
      "dtypes: float64(1), int64(1), object(1), uint16(1), uint32(2)\n",
      "memory usage: 13.8+ MB\n"
     ]
    }
   ],
   "source": [
    "# df.info 는 함수의 전체정보를 요약해서 출력합니다.\n",
    "df_phys_all.info()"
   ]
  },
  {
   "cell_type": "code",
   "execution_count": 44,
   "metadata": {},
   "outputs": [
    {
     "data": {
      "text/html": [
       "<div>\n",
       "<style scoped>\n",
       "    .dataframe tbody tr th:only-of-type {\n",
       "        vertical-align: middle;\n",
       "    }\n",
       "\n",
       "    .dataframe tbody tr th {\n",
       "        vertical-align: top;\n",
       "    }\n",
       "\n",
       "    .dataframe thead th {\n",
       "        text-align: right;\n",
       "    }\n",
       "</style>\n",
       "<table border=\"1\" class=\"dataframe\">\n",
       "  <thead>\n",
       "    <tr style=\"text-align: right;\">\n",
       "      <th></th>\n",
       "      <th>CAN ID</th>\n",
       "      <th>PGN</th>\n",
       "      <th>Source Address</th>\n",
       "      <th>Signal</th>\n",
       "      <th>Raw Value</th>\n",
       "      <th>Physical Value</th>\n",
       "    </tr>\n",
       "    <tr>\n",
       "      <th>TimeStamp</th>\n",
       "      <th></th>\n",
       "      <th></th>\n",
       "      <th></th>\n",
       "      <th></th>\n",
       "      <th></th>\n",
       "      <th></th>\n",
       "    </tr>\n",
       "  </thead>\n",
       "  <tbody>\n",
       "    <tr>\n",
       "      <th>2020-01-13 14:47:09.816750+00:00</th>\n",
       "      <td>217056256.0</td>\n",
       "      <td>61444.0</td>\n",
       "      <td>0.0</td>\n",
       "      <td>EngineSpeed</td>\n",
       "      <td>13596.0</td>\n",
       "      <td>1699.500</td>\n",
       "    </tr>\n",
       "    <tr>\n",
       "      <th>2020-01-13 14:47:09.826750+00:00</th>\n",
       "      <td>217056256.0</td>\n",
       "      <td>61444.0</td>\n",
       "      <td>0.0</td>\n",
       "      <td>EngineSpeed</td>\n",
       "      <td>13554.0</td>\n",
       "      <td>1694.250</td>\n",
       "    </tr>\n",
       "    <tr>\n",
       "      <th>2020-01-13 14:47:09.836800+00:00</th>\n",
       "      <td>217056256.0</td>\n",
       "      <td>61444.0</td>\n",
       "      <td>0.0</td>\n",
       "      <td>EngineSpeed</td>\n",
       "      <td>13495.0</td>\n",
       "      <td>1686.875</td>\n",
       "    </tr>\n",
       "    <tr>\n",
       "      <th>2020-01-13 14:47:09.846750+00:00</th>\n",
       "      <td>217056256.0</td>\n",
       "      <td>61444.0</td>\n",
       "      <td>0.0</td>\n",
       "      <td>EngineSpeed</td>\n",
       "      <td>13418.0</td>\n",
       "      <td>1677.250</td>\n",
       "    </tr>\n",
       "    <tr>\n",
       "      <th>2020-01-13 14:47:09.856850+00:00</th>\n",
       "      <td>217056256.0</td>\n",
       "      <td>61444.0</td>\n",
       "      <td>0.0</td>\n",
       "      <td>EngineSpeed</td>\n",
       "      <td>13331.0</td>\n",
       "      <td>1666.375</td>\n",
       "    </tr>\n",
       "  </tbody>\n",
       "</table>\n",
       "</div>"
      ],
      "text/plain": [
       "                                       CAN ID      PGN  Source Address  \\\n",
       "TimeStamp                                                                \n",
       "2020-01-13 14:47:09.816750+00:00  217056256.0  61444.0             0.0   \n",
       "2020-01-13 14:47:09.826750+00:00  217056256.0  61444.0             0.0   \n",
       "2020-01-13 14:47:09.836800+00:00  217056256.0  61444.0             0.0   \n",
       "2020-01-13 14:47:09.846750+00:00  217056256.0  61444.0             0.0   \n",
       "2020-01-13 14:47:09.856850+00:00  217056256.0  61444.0             0.0   \n",
       "\n",
       "                                       Signal  Raw Value  Physical Value  \n",
       "TimeStamp                                                                 \n",
       "2020-01-13 14:47:09.816750+00:00  EngineSpeed    13596.0        1699.500  \n",
       "2020-01-13 14:47:09.826750+00:00  EngineSpeed    13554.0        1694.250  \n",
       "2020-01-13 14:47:09.836800+00:00  EngineSpeed    13495.0        1686.875  \n",
       "2020-01-13 14:47:09.846750+00:00  EngineSpeed    13418.0        1677.250  \n",
       "2020-01-13 14:47:09.856850+00:00  EngineSpeed    13331.0        1666.375  "
      ]
     },
     "execution_count": 44,
     "metadata": {},
     "output_type": "execute_result"
    }
   ],
   "source": [
    "df_phys_all.head()"
   ]
  },
  {
   "cell_type": "code",
   "execution_count": 40,
   "metadata": {},
   "outputs": [],
   "source": [
    "def ratio(s1,s2):\n",
    "    return s2/s1 if s1 else np.nan"
   ]
  },
  {
   "cell_type": "code",
   "execution_count": 46,
   "metadata": {},
   "outputs": [],
   "source": [
    "df_phys_all = add_custom_sig(df_phys_all, \"WheelBasedVehicleSpeed\", \"EngineSpeed\", ratio, \"RatioRpmSpeed\")"
   ]
  },
  {
   "cell_type": "code",
   "execution_count": 48,
   "metadata": {},
   "outputs": [
    {
     "data": {
      "text/html": [
       "<div>\n",
       "<style scoped>\n",
       "    .dataframe tbody tr th:only-of-type {\n",
       "        vertical-align: middle;\n",
       "    }\n",
       "\n",
       "    .dataframe tbody tr th {\n",
       "        vertical-align: top;\n",
       "    }\n",
       "\n",
       "    .dataframe thead th {\n",
       "        text-align: right;\n",
       "    }\n",
       "</style>\n",
       "<table border=\"1\" class=\"dataframe\">\n",
       "  <thead>\n",
       "    <tr style=\"text-align: right;\">\n",
       "      <th></th>\n",
       "      <th>CAN ID</th>\n",
       "      <th>PGN</th>\n",
       "      <th>Source Address</th>\n",
       "      <th>Signal</th>\n",
       "      <th>Raw Value</th>\n",
       "      <th>Physical Value</th>\n",
       "    </tr>\n",
       "    <tr>\n",
       "      <th>TimeStamp</th>\n",
       "      <th></th>\n",
       "      <th></th>\n",
       "      <th></th>\n",
       "      <th></th>\n",
       "      <th></th>\n",
       "      <th></th>\n",
       "    </tr>\n",
       "  </thead>\n",
       "  <tbody>\n",
       "    <tr>\n",
       "      <th>2020-01-13 14:47:09.816750+00:00</th>\n",
       "      <td>217056256.0</td>\n",
       "      <td>61444.0</td>\n",
       "      <td>0.0</td>\n",
       "      <td>EngineSpeed</td>\n",
       "      <td>13596.0</td>\n",
       "      <td>1699.500</td>\n",
       "    </tr>\n",
       "    <tr>\n",
       "      <th>2020-01-13 14:47:09.826750+00:00</th>\n",
       "      <td>217056256.0</td>\n",
       "      <td>61444.0</td>\n",
       "      <td>0.0</td>\n",
       "      <td>EngineSpeed</td>\n",
       "      <td>13554.0</td>\n",
       "      <td>1694.250</td>\n",
       "    </tr>\n",
       "    <tr>\n",
       "      <th>2020-01-13 14:47:09.836800+00:00</th>\n",
       "      <td>217056256.0</td>\n",
       "      <td>61444.0</td>\n",
       "      <td>0.0</td>\n",
       "      <td>EngineSpeed</td>\n",
       "      <td>13495.0</td>\n",
       "      <td>1686.875</td>\n",
       "    </tr>\n",
       "    <tr>\n",
       "      <th>2020-01-13 14:47:09.846750+00:00</th>\n",
       "      <td>217056256.0</td>\n",
       "      <td>61444.0</td>\n",
       "      <td>0.0</td>\n",
       "      <td>EngineSpeed</td>\n",
       "      <td>13418.0</td>\n",
       "      <td>1677.250</td>\n",
       "    </tr>\n",
       "    <tr>\n",
       "      <th>2020-01-13 14:47:09.856850+00:00</th>\n",
       "      <td>217056256.0</td>\n",
       "      <td>61444.0</td>\n",
       "      <td>0.0</td>\n",
       "      <td>EngineSpeed</td>\n",
       "      <td>13331.0</td>\n",
       "      <td>1666.375</td>\n",
       "    </tr>\n",
       "  </tbody>\n",
       "</table>\n",
       "</div>"
      ],
      "text/plain": [
       "                                       CAN ID      PGN  Source Address  \\\n",
       "TimeStamp                                                                \n",
       "2020-01-13 14:47:09.816750+00:00  217056256.0  61444.0             0.0   \n",
       "2020-01-13 14:47:09.826750+00:00  217056256.0  61444.0             0.0   \n",
       "2020-01-13 14:47:09.836800+00:00  217056256.0  61444.0             0.0   \n",
       "2020-01-13 14:47:09.846750+00:00  217056256.0  61444.0             0.0   \n",
       "2020-01-13 14:47:09.856850+00:00  217056256.0  61444.0             0.0   \n",
       "\n",
       "                                       Signal  Raw Value  Physical Value  \n",
       "TimeStamp                                                                 \n",
       "2020-01-13 14:47:09.816750+00:00  EngineSpeed    13596.0        1699.500  \n",
       "2020-01-13 14:47:09.826750+00:00  EngineSpeed    13554.0        1694.250  \n",
       "2020-01-13 14:47:09.836800+00:00  EngineSpeed    13495.0        1686.875  \n",
       "2020-01-13 14:47:09.846750+00:00  EngineSpeed    13418.0        1677.250  \n",
       "2020-01-13 14:47:09.856850+00:00  EngineSpeed    13331.0        1666.375  "
      ]
     },
     "execution_count": 48,
     "metadata": {},
     "output_type": "execute_result"
    }
   ],
   "source": [
    "df_phys_all.head()"
   ]
  },
  {
   "cell_type": "code",
   "execution_count": 87,
   "metadata": {},
   "outputs": [
    {
     "data": {
      "text/plain": [
       "TimeStamp\n",
       "2020-01-13    0\n",
       "2020-01-15    2\n",
       "2020-01-17    4\n",
       "Name: a, dtype: int64"
      ]
     },
     "execution_count": 87,
     "metadata": {},
     "output_type": "execute_result"
    }
   ],
   "source": [
    "# 잠깐 실습 \n",
    "d = {'TimeStamp': [\"2020-01-13\",\"2020-01-14\",\"2020-01-15\",\"2020-01-16\",\"2020-01-17\",\"2020-01-18\",\"2020-01-19\"], 'Signal': [1, 2, 1, 2, 1, 2, 7], 'Raw Value': [11, 12, 13, 14, 15, 16, 17], 'Physical Value': range(7)}\n",
    "df = pd.DataFrame(data=d)\n",
    "# 칼럼값인 TimeStamp 를 인덱스로 변경\n",
    "df = df.set_index(\"TimeStamp\")\n",
    "\n",
    "# df중에 sinnal 칼럼이 1이인칼럼중 Physical 칼럼 만을 출력\n",
    "df1 =df[df[\"Signal\"]==1] [\"Physical Value\"]\n",
    "# df중에 sinnal 칼럼이 1이인칼럼중 Physical 칼럼인 녀석을 \"a\" 라는 이름으로 변경\n",
    "df[df[\"Signal\"]==1] [\"Physical Value\"].rename(\"a\")"
   ]
  },
  {
   "cell_type": "code",
   "execution_count": 94,
   "metadata": {},
   "outputs": [
    {
     "data": {
      "text/plain": [
       "TimeStamp\n",
       "2020-01-14    1\n",
       "2020-01-16    3\n",
       "2020-01-18    5\n",
       "Name: b, dtype: int64"
      ]
     },
     "execution_count": 94,
     "metadata": {},
     "output_type": "execute_result"
    }
   ],
   "source": [
    "df2 = df[df[\"Signal\"] == 2][\"Physical Value\"].rename(\"b\")\n",
    "df2"
   ]
  },
  {
   "cell_type": "code",
   "execution_count": 91,
   "metadata": {},
   "outputs": [],
   "source": [
    "# TimeStamp 가 겹치지 않는 개별의 시리즈를 Merge 하며 time stamp 값은 그 이전 time stamp 값을 참조\n",
    "df_new_sig = pd.merge_ordered(df1, df2, on=\"TimeStamp\", fill_method=\"ffill\",).set_index(\"TimeStamp\")"
   ]
  },
  {
   "cell_type": "code",
   "execution_count": 95,
   "metadata": {},
   "outputs": [
    {
     "data": {
      "text/html": [
       "<div>\n",
       "<style scoped>\n",
       "    .dataframe tbody tr th:only-of-type {\n",
       "        vertical-align: middle;\n",
       "    }\n",
       "\n",
       "    .dataframe tbody tr th {\n",
       "        vertical-align: top;\n",
       "    }\n",
       "\n",
       "    .dataframe thead th {\n",
       "        text-align: right;\n",
       "    }\n",
       "</style>\n",
       "<table border=\"1\" class=\"dataframe\">\n",
       "  <thead>\n",
       "    <tr style=\"text-align: right;\">\n",
       "      <th></th>\n",
       "      <th>Physical Value</th>\n",
       "      <th>b</th>\n",
       "    </tr>\n",
       "    <tr>\n",
       "      <th>TimeStamp</th>\n",
       "      <th></th>\n",
       "      <th></th>\n",
       "    </tr>\n",
       "  </thead>\n",
       "  <tbody>\n",
       "    <tr>\n",
       "      <th>2020-01-13</th>\n",
       "      <td>0</td>\n",
       "      <td>NaN</td>\n",
       "    </tr>\n",
       "    <tr>\n",
       "      <th>2020-01-14</th>\n",
       "      <td>0</td>\n",
       "      <td>1.0</td>\n",
       "    </tr>\n",
       "    <tr>\n",
       "      <th>2020-01-15</th>\n",
       "      <td>2</td>\n",
       "      <td>1.0</td>\n",
       "    </tr>\n",
       "    <tr>\n",
       "      <th>2020-01-16</th>\n",
       "      <td>2</td>\n",
       "      <td>3.0</td>\n",
       "    </tr>\n",
       "    <tr>\n",
       "      <th>2020-01-17</th>\n",
       "      <td>4</td>\n",
       "      <td>3.0</td>\n",
       "    </tr>\n",
       "    <tr>\n",
       "      <th>2020-01-18</th>\n",
       "      <td>4</td>\n",
       "      <td>5.0</td>\n",
       "    </tr>\n",
       "  </tbody>\n",
       "</table>\n",
       "</div>"
      ],
      "text/plain": [
       "            Physical Value    b\n",
       "TimeStamp                      \n",
       "2020-01-13               0  NaN\n",
       "2020-01-14               0  1.0\n",
       "2020-01-15               2  1.0\n",
       "2020-01-16               2  3.0\n",
       "2020-01-17               4  3.0\n",
       "2020-01-18               4  5.0"
      ]
     },
     "execution_count": 95,
     "metadata": {},
     "output_type": "execute_result"
    }
   ],
   "source": [
    "df_new_sig"
   ]
  },
  {
   "cell_type": "code",
   "execution_count": 101,
   "metadata": {},
   "outputs": [
    {
     "data": {
      "text/plain": [
       "TimeStamp\n",
       "2020-01-13     NaN\n",
       "2020-01-14     NaN\n",
       "2020-01-15    0.50\n",
       "2020-01-16    1.50\n",
       "2020-01-17    0.75\n",
       "2020-01-18    1.25\n",
       "dtype: float64"
      ]
     },
     "execution_count": 101,
     "metadata": {},
     "output_type": "execute_result"
    }
   ],
   "source": [
    "# 기존의 칼럼을 연산하여 axis 가 1일경우 Column 추가 0 일경우 row 추가\n",
    "df_new_sig.apply(lambda x : ratio(x[0],x[1]),axis=1)\n"
   ]
  },
  {
   "cell_type": "code",
   "execution_count": 103,
   "metadata": {},
   "outputs": [
    {
     "data": {
      "text/plain": [
       "TimeStamp\n",
       "2020-01-15    0.50\n",
       "2020-01-16    1.50\n",
       "2020-01-17    0.75\n",
       "2020-01-18    1.25\n",
       "Name: Physical Value, dtype: float64"
      ]
     },
     "execution_count": 103,
     "metadata": {},
     "output_type": "execute_result"
    }
   ],
   "source": [
    "# nan 값을 제거하는 dropna 와 칼럼의 이름을 변경하는 remane 메소드 호출\n",
    "df_new_sig.apply(lambda x: ratio(x[0], x[1]), axis=1).dropna().rename(\"Physical Value\")"
   ]
  },
  {
   "cell_type": "code",
   "execution_count": 104,
   "metadata": {},
   "outputs": [
    {
     "data": {
      "text/html": [
       "<div>\n",
       "<style scoped>\n",
       "    .dataframe tbody tr th:only-of-type {\n",
       "        vertical-align: middle;\n",
       "    }\n",
       "\n",
       "    .dataframe tbody tr th {\n",
       "        vertical-align: top;\n",
       "    }\n",
       "\n",
       "    .dataframe thead th {\n",
       "        text-align: right;\n",
       "    }\n",
       "</style>\n",
       "<table border=\"1\" class=\"dataframe\">\n",
       "  <thead>\n",
       "    <tr style=\"text-align: right;\">\n",
       "      <th></th>\n",
       "      <th>Physical Value</th>\n",
       "    </tr>\n",
       "    <tr>\n",
       "      <th>TimeStamp</th>\n",
       "      <th></th>\n",
       "    </tr>\n",
       "  </thead>\n",
       "  <tbody>\n",
       "    <tr>\n",
       "      <th>2020-01-15</th>\n",
       "      <td>0.50</td>\n",
       "    </tr>\n",
       "    <tr>\n",
       "      <th>2020-01-16</th>\n",
       "      <td>1.50</td>\n",
       "    </tr>\n",
       "    <tr>\n",
       "      <th>2020-01-17</th>\n",
       "      <td>0.75</td>\n",
       "    </tr>\n",
       "    <tr>\n",
       "      <th>2020-01-18</th>\n",
       "      <td>1.25</td>\n",
       "    </tr>\n",
       "  </tbody>\n",
       "</table>\n",
       "</div>"
      ],
      "text/plain": [
       "            Physical Value\n",
       "TimeStamp                 \n",
       "2020-01-15            0.50\n",
       "2020-01-16            1.50\n",
       "2020-01-17            0.75\n",
       "2020-01-18            1.25"
      ]
     },
     "execution_count": 104,
     "metadata": {},
     "output_type": "execute_result"
    }
   ],
   "source": [
    "# 이후 데이터 프레임으로 반환 .to_frame()\n",
    "df_new_sig.apply(lambda x: ratio(x[0], x[1]), axis=1).dropna().rename(\"Physical Value\").to_frame()"
   ]
  }
 ],
 "metadata": {
  "kernelspec": {
   "display_name": "Python 3.7.9 64-bit",
   "language": "python",
   "name": "python3"
  },
  "language_info": {
   "codemirror_mode": {
    "name": "ipython",
    "version": 3
   },
   "file_extension": ".py",
   "mimetype": "text/x-python",
   "name": "python",
   "nbconvert_exporter": "python",
   "pygments_lexer": "ipython3",
   "version": "3.7.9"
  },
  "orig_nbformat": 4,
  "vscode": {
   "interpreter": {
    "hash": "846294fcece9a103364a6f4898b83c0cf74a04d3bde45001178ac18938429a81"
   }
  }
 },
 "nbformat": 4,
 "nbformat_minor": 2
}
