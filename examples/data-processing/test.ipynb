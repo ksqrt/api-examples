{
 "cells": [
  {
   "cell_type": "code",
   "execution_count": 30,
   "metadata": {},
   "outputs": [],
   "source": [
    "import mdf_iter               # MDF4 데이터 불러오는 라이브러리\n",
    "import canedge_browser        # 로컬 또는 S3에 저장된 데이터 가져오는 라이브러리\n",
    "import can_decoder            # 데이터를 복호화하는 라이브러리\n",
    "import numpy as np\n",
    "import pandas as pd           # 데이터분석 라이브러리\n",
    "from datetime import datetime, timezone  # 날짜와 시간 데이터를 가져올 수 있는 파이썬 라이브러리\n",
    "from utils import setup_fs, load_dbc_files, restructure_data, add_custom_sig, ProcessData # 폴더 내 위치한 Custom 라이브러리"
   ]
  },
  {
   "cell_type": "code",
   "execution_count": 31,
   "metadata": {},
   "outputs": [],
   "source": [
    "# specify devices to process (from local/S3), DBC files and start time\n",
    "devices = [\"LOG/958D2219\"]\n",
    "dbc_paths = [\"dbc_files/CSS-Electronics-SAE-J1939-DEMO.dbc\"]\n",
    "\n",
    "\n",
    "# s3 또는 로컬에 저장한 파일을 불러옵니다. \n",
    "# 만약 s3에 저장한 경우라면, s3=True를 입력합니다.\n",
    "\n",
    "# 시작시간\n",
    "start = datetime(year=2020, month=1, day=13, hour=0, tzinfo=timezone.utc)"
   ]
  },
  {
   "cell_type": "code",
   "execution_count": 32,
   "metadata": {},
   "outputs": [],
   "source": [
    "# setup filesystem (local/S3), load DBC files and list log files for processing\n",
    "fs = setup_fs(s3=False, key=\"\", secret=\"\", endpoint=\"\")\n"
   ]
  },
  {
   "cell_type": "code",
   "execution_count": 33,
   "metadata": {},
   "outputs": [
    {
     "name": "stdout",
     "output_type": "stream",
     "text": [
      "Found a total of 2 log files\n",
      "[<can_decoder.SignalDB.SignalDB object at 0x7fd4a0b57550>]\n",
      "['/LOG/958D2219/00002501/00002081.MF4', '/LOG/958D2219/00002501/00002082.MF4']\n"
     ]
    }
   ],
   "source": [
    "# 리스트형태로 입력한 dbc 파일경로를 받아 list를 생성합니다\n",
    "db_list = load_dbc_files(dbc_paths)\n",
    "# canedge_browser.get_log_files는 조건에 맞는 로그 파일 경로를 List로 반환합니다.\n",
    "log_files = canedge_browser.get_log_files(fs, devices, start_date=start)\n",
    "print(f\"Found a total of {len(log_files)} log files\")\n",
    "\n",
    "print(db_list)\n",
    "print(log_files)\n"
   ]
  },
  {
   "cell_type": "code",
   "execution_count": 34,
   "metadata": {},
   "outputs": [],
   "source": [
    "proc = ProcessData(fs, db_list, signals=[])\n",
    "\n",
    "# 데이터 프레임을 먼저만든뒤\n",
    "df_phys_all = pd.DataFrame()\n"
   ]
  },
  {
   "cell_type": "code",
   "execution_count": 44,
   "metadata": {},
   "outputs": [
    {
     "name": "stdout",
     "output_type": "stream",
     "text": [
      "                                     CAN ID    PGN  Source Address  \\\n",
      "TimeStamp                                                            \n",
      "2020-01-13 14:47:09.816750+00:00  217056256  61444               0   \n",
      "2020-01-13 14:47:09.826750+00:00  217056256  61444               0   \n",
      "2020-01-13 14:47:09.836800+00:00  217056256  61444               0   \n",
      "2020-01-13 14:47:09.846750+00:00  217056256  61444               0   \n",
      "2020-01-13 14:47:09.856850+00:00  217056256  61444               0   \n",
      "...                                     ...    ...             ...   \n",
      "2020-01-13 14:50:25.620550+00:00  217056256  61444               0   \n",
      "2020-01-13 14:50:25.629750+00:00  217056256  61444               0   \n",
      "2020-01-13 14:50:25.639750+00:00  217056256  61444               0   \n",
      "2020-01-13 14:50:25.649750+00:00  217056256  61444               0   \n",
      "2020-01-13 14:50:25.659800+00:00  217056256  61444               0   \n",
      "\n",
      "                                       Signal  Raw Value  Physical Value  \n",
      "TimeStamp                                                                 \n",
      "2020-01-13 14:47:09.816750+00:00  EngineSpeed      13596        1699.500  \n",
      "2020-01-13 14:47:09.826750+00:00  EngineSpeed      13554        1694.250  \n",
      "2020-01-13 14:47:09.836800+00:00  EngineSpeed      13495        1686.875  \n",
      "2020-01-13 14:47:09.846750+00:00  EngineSpeed      13418        1677.250  \n",
      "2020-01-13 14:47:09.856850+00:00  EngineSpeed      13331        1666.375  \n",
      "...                                       ...        ...             ...  \n",
      "2020-01-13 14:50:25.620550+00:00  EngineSpeed      11619        1452.375  \n",
      "2020-01-13 14:50:25.629750+00:00  EngineSpeed      11631        1453.875  \n",
      "2020-01-13 14:50:25.639750+00:00  EngineSpeed      11636        1454.500  \n",
      "2020-01-13 14:50:25.649750+00:00  EngineSpeed      11645        1455.625  \n",
      "2020-01-13 14:50:25.659800+00:00  EngineSpeed      11653        1456.625  \n",
      "\n",
      "[21542 rows x 6 columns]\n",
      "                                     CAN ID    PGN  Source Address  \\\n",
      "TimeStamp                                                            \n",
      "2020-01-13 14:50:25.670250+00:00  217056256  61444               0   \n",
      "2020-01-13 14:50:25.679950+00:00  217056256  61444               0   \n",
      "2020-01-13 14:50:25.681650+00:00  419361024  65265               0   \n",
      "2020-01-13 14:50:25.689800+00:00  217056256  61444               0   \n",
      "2020-01-13 14:50:25.699750+00:00  217056256  61444               0   \n",
      "...                                     ...    ...             ...   \n",
      "2020-01-13 14:53:41.472850+00:00  217056256  61444               0   \n",
      "2020-01-13 14:53:41.483450+00:00  217056256  61444               0   \n",
      "2020-01-13 14:53:41.493050+00:00  217056256  61444               0   \n",
      "2020-01-13 14:53:41.494800+00:00  419361024  65265               0   \n",
      "2020-01-13 14:53:41.502950+00:00  217056256  61444               0   \n",
      "\n",
      "                                                  Signal  Raw Value  \\\n",
      "TimeStamp                                                             \n",
      "2020-01-13 14:50:25.670250+00:00             EngineSpeed      11645   \n",
      "2020-01-13 14:50:25.679950+00:00             EngineSpeed      11656   \n",
      "2020-01-13 14:50:25.681650+00:00  WheelBasedVehicleSpeed      21222   \n",
      "2020-01-13 14:50:25.689800+00:00             EngineSpeed      11661   \n",
      "2020-01-13 14:50:25.699750+00:00             EngineSpeed      11660   \n",
      "...                                                  ...        ...   \n",
      "2020-01-13 14:53:41.472850+00:00             EngineSpeed      11852   \n",
      "2020-01-13 14:53:41.483450+00:00             EngineSpeed      11852   \n",
      "2020-01-13 14:53:41.493050+00:00             EngineSpeed      11841   \n",
      "2020-01-13 14:53:41.494800+00:00  WheelBasedVehicleSpeed      21446   \n",
      "2020-01-13 14:53:41.502950+00:00             EngineSpeed      11837   \n",
      "\n",
      "                                  Physical Value  \n",
      "TimeStamp                                         \n",
      "2020-01-13 14:50:25.670250+00:00     1455.625000  \n",
      "2020-01-13 14:50:25.679950+00:00     1457.000000  \n",
      "2020-01-13 14:50:25.681650+00:00       82.898438  \n",
      "2020-01-13 14:50:25.689800+00:00     1457.625000  \n",
      "2020-01-13 14:50:25.699750+00:00     1457.500000  \n",
      "...                                          ...  \n",
      "2020-01-13 14:53:41.472850+00:00     1481.500000  \n",
      "2020-01-13 14:53:41.483450+00:00     1481.500000  \n",
      "2020-01-13 14:53:41.493050+00:00     1480.125000  \n",
      "2020-01-13 14:53:41.494800+00:00       83.773438  \n",
      "2020-01-13 14:53:41.502950+00:00     1479.625000  \n",
      "\n",
      "[21542 rows x 6 columns]\n"
     ]
    }
   ],
   "source": [
    "% load, DBC decode and print MF4 log files\n",
    "for log_file in log_files:\n",
    "   df_raw,df_id = proc.get_raw_data(log_file)\n",
    "   df_phys = proc.extract_phys(df_raw)\n",
    "   print(df_phys)\n"
   ]
  },
  {
   "cell_type": "code",
   "execution_count": 35,
   "metadata": {},
   "outputs": [
    {
     "name": "stdout",
     "output_type": "stream",
     "text": [
      "\n",
      "--------------- \n",
      "Device: 958D2219 | Log file: /00002501/00002081.MF4 [Extracted 21542 decoded frames]\n",
      "Period: 2020-01-13 14:47:09.816750+00:00 - 2020-01-13 14:50:25.659800+00:00\n",
      "\n",
      "\n",
      "--------------- \n",
      "Device: 958D2219 | Log file: /00002501/00002082.MF4 [Extracted 21542 decoded frames]\n",
      "Period: 2020-01-13 14:50:25.670250+00:00 - 2020-01-13 14:53:41.502950+00:00\n",
      "\n"
     ]
    }
   ],
   "source": [
    "# 로그파일 리스트의 데이터를 불러와 데이터프레임에 append\n",
    "for log_file in log_files:\n",
    "    # .get_raw_data 는 df_raw 값과 device_id 값 리턴\n",
    "    df_raw,device_id = proc.get_raw_data(log_file)\n",
    "    df_phys = proc.extract_phys(df_raw)\n",
    "    proc.print_log_summary(device_id,log_file,df_phys)\n",
    "    df_phys_all = df_phys_all.append(df_phys)\n",
    "\n",
    "    "
   ]
  },
  {
   "cell_type": "code",
   "execution_count": 36,
   "metadata": {},
   "outputs": [
    {
     "name": "stdout",
     "output_type": "stream",
     "text": [
      "<class 'pandas.core.frame.DataFrame'>\n",
      "DatetimeIndex: 43084 entries, 2020-01-13 14:47:09.816750+00:00 to 2020-01-13 14:53:41.502950+00:00\n",
      "Data columns (total 6 columns):\n",
      " #   Column          Non-Null Count  Dtype  \n",
      "---  ------          --------------  -----  \n",
      " 0   CAN ID          43084 non-null  uint32 \n",
      " 1   PGN             43084 non-null  int64  \n",
      " 2   Source Address  43084 non-null  uint32 \n",
      " 3   Signal          43084 non-null  object \n",
      " 4   Raw Value       43084 non-null  uint16 \n",
      " 5   Physical Value  43084 non-null  float64\n",
      "dtypes: float64(1), int64(1), object(1), uint16(1), uint32(2)\n",
      "memory usage: 1.7+ MB\n"
     ]
    }
   ],
   "source": [
    "# df.info 는 함수의 전체정보를 요약해서 출력합니다.\n",
    "df_phys_all.info()"
   ]
  },
  {
   "cell_type": "code",
   "execution_count": 37,
   "metadata": {},
   "outputs": [
    {
     "data": {
      "text/html": [
       "<div>\n",
       "<style scoped>\n",
       "    .dataframe tbody tr th:only-of-type {\n",
       "        vertical-align: middle;\n",
       "    }\n",
       "\n",
       "    .dataframe tbody tr th {\n",
       "        vertical-align: top;\n",
       "    }\n",
       "\n",
       "    .dataframe thead th {\n",
       "        text-align: right;\n",
       "    }\n",
       "</style>\n",
       "<table border=\"1\" class=\"dataframe\">\n",
       "  <thead>\n",
       "    <tr style=\"text-align: right;\">\n",
       "      <th></th>\n",
       "      <th>CAN ID</th>\n",
       "      <th>PGN</th>\n",
       "      <th>Source Address</th>\n",
       "      <th>Signal</th>\n",
       "      <th>Raw Value</th>\n",
       "      <th>Physical Value</th>\n",
       "    </tr>\n",
       "    <tr>\n",
       "      <th>TimeStamp</th>\n",
       "      <th></th>\n",
       "      <th></th>\n",
       "      <th></th>\n",
       "      <th></th>\n",
       "      <th></th>\n",
       "      <th></th>\n",
       "    </tr>\n",
       "  </thead>\n",
       "  <tbody>\n",
       "    <tr>\n",
       "      <th>2020-01-13 14:47:09.816750+00:00</th>\n",
       "      <td>217056256</td>\n",
       "      <td>61444</td>\n",
       "      <td>0</td>\n",
       "      <td>EngineSpeed</td>\n",
       "      <td>13596</td>\n",
       "      <td>1699.500</td>\n",
       "    </tr>\n",
       "    <tr>\n",
       "      <th>2020-01-13 14:47:09.826750+00:00</th>\n",
       "      <td>217056256</td>\n",
       "      <td>61444</td>\n",
       "      <td>0</td>\n",
       "      <td>EngineSpeed</td>\n",
       "      <td>13554</td>\n",
       "      <td>1694.250</td>\n",
       "    </tr>\n",
       "    <tr>\n",
       "      <th>2020-01-13 14:47:09.836800+00:00</th>\n",
       "      <td>217056256</td>\n",
       "      <td>61444</td>\n",
       "      <td>0</td>\n",
       "      <td>EngineSpeed</td>\n",
       "      <td>13495</td>\n",
       "      <td>1686.875</td>\n",
       "    </tr>\n",
       "    <tr>\n",
       "      <th>2020-01-13 14:47:09.846750+00:00</th>\n",
       "      <td>217056256</td>\n",
       "      <td>61444</td>\n",
       "      <td>0</td>\n",
       "      <td>EngineSpeed</td>\n",
       "      <td>13418</td>\n",
       "      <td>1677.250</td>\n",
       "    </tr>\n",
       "    <tr>\n",
       "      <th>2020-01-13 14:47:09.856850+00:00</th>\n",
       "      <td>217056256</td>\n",
       "      <td>61444</td>\n",
       "      <td>0</td>\n",
       "      <td>EngineSpeed</td>\n",
       "      <td>13331</td>\n",
       "      <td>1666.375</td>\n",
       "    </tr>\n",
       "  </tbody>\n",
       "</table>\n",
       "</div>"
      ],
      "text/plain": [
       "                                     CAN ID    PGN  Source Address  \\\n",
       "TimeStamp                                                            \n",
       "2020-01-13 14:47:09.816750+00:00  217056256  61444               0   \n",
       "2020-01-13 14:47:09.826750+00:00  217056256  61444               0   \n",
       "2020-01-13 14:47:09.836800+00:00  217056256  61444               0   \n",
       "2020-01-13 14:47:09.846750+00:00  217056256  61444               0   \n",
       "2020-01-13 14:47:09.856850+00:00  217056256  61444               0   \n",
       "\n",
       "                                       Signal  Raw Value  Physical Value  \n",
       "TimeStamp                                                                 \n",
       "2020-01-13 14:47:09.816750+00:00  EngineSpeed      13596        1699.500  \n",
       "2020-01-13 14:47:09.826750+00:00  EngineSpeed      13554        1694.250  \n",
       "2020-01-13 14:47:09.836800+00:00  EngineSpeed      13495        1686.875  \n",
       "2020-01-13 14:47:09.846750+00:00  EngineSpeed      13418        1677.250  \n",
       "2020-01-13 14:47:09.856850+00:00  EngineSpeed      13331        1666.375  "
      ]
     },
     "execution_count": 37,
     "metadata": {},
     "output_type": "execute_result"
    }
   ],
   "source": [
    "df_phys_all.head()"
   ]
  },
  {
   "cell_type": "code",
   "execution_count": 38,
   "metadata": {},
   "outputs": [],
   "source": [
    "def ratio(s1,s2):\n",
    "    return s2/s1 if s1 else np.nan"
   ]
  },
  {
   "cell_type": "code",
   "execution_count": 39,
   "metadata": {},
   "outputs": [],
   "source": [
    "df_phys_all = add_custom_sig(df_phys_all, \"WheelBasedVehicleSpeed\", \"EngineSpeed\", ratio, \"RatioRpmSpeed\")"
   ]
  },
  {
   "cell_type": "code",
   "execution_count": 40,
   "metadata": {},
   "outputs": [
    {
     "data": {
      "text/html": [
       "<div>\n",
       "<style scoped>\n",
       "    .dataframe tbody tr th:only-of-type {\n",
       "        vertical-align: middle;\n",
       "    }\n",
       "\n",
       "    .dataframe tbody tr th {\n",
       "        vertical-align: top;\n",
       "    }\n",
       "\n",
       "    .dataframe thead th {\n",
       "        text-align: right;\n",
       "    }\n",
       "</style>\n",
       "<table border=\"1\" class=\"dataframe\">\n",
       "  <thead>\n",
       "    <tr style=\"text-align: right;\">\n",
       "      <th></th>\n",
       "      <th>CAN ID</th>\n",
       "      <th>PGN</th>\n",
       "      <th>Source Address</th>\n",
       "      <th>Signal</th>\n",
       "      <th>Raw Value</th>\n",
       "      <th>Physical Value</th>\n",
       "    </tr>\n",
       "    <tr>\n",
       "      <th>TimeStamp</th>\n",
       "      <th></th>\n",
       "      <th></th>\n",
       "      <th></th>\n",
       "      <th></th>\n",
       "      <th></th>\n",
       "      <th></th>\n",
       "    </tr>\n",
       "  </thead>\n",
       "  <tbody>\n",
       "    <tr>\n",
       "      <th>2020-01-13 14:53:41.472850+00:00</th>\n",
       "      <td>NaN</td>\n",
       "      <td>NaN</td>\n",
       "      <td>NaN</td>\n",
       "      <td>RatioRpmSpeed</td>\n",
       "      <td>NaN</td>\n",
       "      <td>17.676361</td>\n",
       "    </tr>\n",
       "    <tr>\n",
       "      <th>2020-01-13 14:53:41.483450+00:00</th>\n",
       "      <td>NaN</td>\n",
       "      <td>NaN</td>\n",
       "      <td>NaN</td>\n",
       "      <td>RatioRpmSpeed</td>\n",
       "      <td>NaN</td>\n",
       "      <td>17.676361</td>\n",
       "    </tr>\n",
       "    <tr>\n",
       "      <th>2020-01-13 14:53:41.493050+00:00</th>\n",
       "      <td>NaN</td>\n",
       "      <td>NaN</td>\n",
       "      <td>NaN</td>\n",
       "      <td>RatioRpmSpeed</td>\n",
       "      <td>NaN</td>\n",
       "      <td>17.659955</td>\n",
       "    </tr>\n",
       "    <tr>\n",
       "      <th>2020-01-13 14:53:41.494800+00:00</th>\n",
       "      <td>NaN</td>\n",
       "      <td>NaN</td>\n",
       "      <td>NaN</td>\n",
       "      <td>RatioRpmSpeed</td>\n",
       "      <td>NaN</td>\n",
       "      <td>17.668190</td>\n",
       "    </tr>\n",
       "    <tr>\n",
       "      <th>2020-01-13 14:53:41.502950+00:00</th>\n",
       "      <td>NaN</td>\n",
       "      <td>NaN</td>\n",
       "      <td>NaN</td>\n",
       "      <td>RatioRpmSpeed</td>\n",
       "      <td>NaN</td>\n",
       "      <td>17.662221</td>\n",
       "    </tr>\n",
       "  </tbody>\n",
       "</table>\n",
       "</div>"
      ],
      "text/plain": [
       "                                  CAN ID  PGN  Source Address         Signal  \\\n",
       "TimeStamp                                                                      \n",
       "2020-01-13 14:53:41.472850+00:00     NaN  NaN             NaN  RatioRpmSpeed   \n",
       "2020-01-13 14:53:41.483450+00:00     NaN  NaN             NaN  RatioRpmSpeed   \n",
       "2020-01-13 14:53:41.493050+00:00     NaN  NaN             NaN  RatioRpmSpeed   \n",
       "2020-01-13 14:53:41.494800+00:00     NaN  NaN             NaN  RatioRpmSpeed   \n",
       "2020-01-13 14:53:41.502950+00:00     NaN  NaN             NaN  RatioRpmSpeed   \n",
       "\n",
       "                                  Raw Value  Physical Value  \n",
       "TimeStamp                                                    \n",
       "2020-01-13 14:53:41.472850+00:00        NaN       17.676361  \n",
       "2020-01-13 14:53:41.483450+00:00        NaN       17.676361  \n",
       "2020-01-13 14:53:41.493050+00:00        NaN       17.659955  \n",
       "2020-01-13 14:53:41.494800+00:00        NaN       17.668190  \n",
       "2020-01-13 14:53:41.502950+00:00        NaN       17.662221  "
      ]
     },
     "execution_count": 40,
     "metadata": {},
     "output_type": "execute_result"
    }
   ],
   "source": [
    "df_phys_all.tail()\n"
   ]
  },
  {
   "cell_type": "code",
   "execution_count": 41,
   "metadata": {},
   "outputs": [
    {
     "data": {
      "text/html": [
       "<div>\n",
       "<style scoped>\n",
       "    .dataframe tbody tr th:only-of-type {\n",
       "        vertical-align: middle;\n",
       "    }\n",
       "\n",
       "    .dataframe tbody tr th {\n",
       "        vertical-align: top;\n",
       "    }\n",
       "\n",
       "    .dataframe thead th {\n",
       "        text-align: right;\n",
       "    }\n",
       "</style>\n",
       "<table border=\"1\" class=\"dataframe\">\n",
       "  <thead>\n",
       "    <tr style=\"text-align: right;\">\n",
       "      <th></th>\n",
       "      <th>EngineSpeed</th>\n",
       "      <th>WheelBasedVehicleSpeed</th>\n",
       "    </tr>\n",
       "    <tr>\n",
       "      <th>TimeStamp</th>\n",
       "      <th></th>\n",
       "      <th></th>\n",
       "    </tr>\n",
       "  </thead>\n",
       "  <tbody>\n",
       "    <tr>\n",
       "      <th>2020-01-13 14:47:10+00:00</th>\n",
       "      <td>1537.875</td>\n",
       "      <td>19.320312</td>\n",
       "    </tr>\n",
       "    <tr>\n",
       "      <th>2020-01-13 14:47:11+00:00</th>\n",
       "      <td>1085.000</td>\n",
       "      <td>20.648438</td>\n",
       "    </tr>\n",
       "    <tr>\n",
       "      <th>2020-01-13 14:47:12+00:00</th>\n",
       "      <td>1239.875</td>\n",
       "      <td>19.476562</td>\n",
       "    </tr>\n",
       "    <tr>\n",
       "      <th>2020-01-13 14:47:13+00:00</th>\n",
       "      <td>1399.625</td>\n",
       "      <td>21.859375</td>\n",
       "    </tr>\n",
       "    <tr>\n",
       "      <th>2020-01-13 14:47:14+00:00</th>\n",
       "      <td>1583.625</td>\n",
       "      <td>24.773438</td>\n",
       "    </tr>\n",
       "    <tr>\n",
       "      <th>...</th>\n",
       "      <td>...</td>\n",
       "      <td>...</td>\n",
       "    </tr>\n",
       "    <tr>\n",
       "      <th>2020-01-13 14:53:37+00:00</th>\n",
       "      <td>1478.375</td>\n",
       "      <td>83.000000</td>\n",
       "    </tr>\n",
       "    <tr>\n",
       "      <th>2020-01-13 14:53:38+00:00</th>\n",
       "      <td>1464.125</td>\n",
       "      <td>82.867188</td>\n",
       "    </tr>\n",
       "    <tr>\n",
       "      <th>2020-01-13 14:53:39+00:00</th>\n",
       "      <td>1455.250</td>\n",
       "      <td>84.179688</td>\n",
       "    </tr>\n",
       "    <tr>\n",
       "      <th>2020-01-13 14:53:40+00:00</th>\n",
       "      <td>1484.625</td>\n",
       "      <td>83.906250</td>\n",
       "    </tr>\n",
       "    <tr>\n",
       "      <th>2020-01-13 14:53:41+00:00</th>\n",
       "      <td>1479.625</td>\n",
       "      <td>83.554688</td>\n",
       "    </tr>\n",
       "  </tbody>\n",
       "</table>\n",
       "<p>392 rows × 2 columns</p>\n",
       "</div>"
      ],
      "text/plain": [
       "                           EngineSpeed  WheelBasedVehicleSpeed\n",
       "TimeStamp                                                     \n",
       "2020-01-13 14:47:10+00:00     1537.875               19.320312\n",
       "2020-01-13 14:47:11+00:00     1085.000               20.648438\n",
       "2020-01-13 14:47:12+00:00     1239.875               19.476562\n",
       "2020-01-13 14:47:13+00:00     1399.625               21.859375\n",
       "2020-01-13 14:47:14+00:00     1583.625               24.773438\n",
       "...                                ...                     ...\n",
       "2020-01-13 14:53:37+00:00     1478.375               83.000000\n",
       "2020-01-13 14:53:38+00:00     1464.125               82.867188\n",
       "2020-01-13 14:53:39+00:00     1455.250               84.179688\n",
       "2020-01-13 14:53:40+00:00     1484.625               83.906250\n",
       "2020-01-13 14:53:41+00:00     1479.625               83.554688\n",
       "\n",
       "[392 rows x 2 columns]"
      ]
     },
     "execution_count": 41,
     "metadata": {},
     "output_type": "execute_result"
    }
   ],
   "source": [
    "# 위의 데이터프레임을 재구조화 후 csv 파일로내보내기\n",
    "df_phys_join = restructure_data(df_phys=df_phys_all, res=\"1S\")\n",
    "df_phys_join\n",
    "# df_phys_join.to_csv(\"output_joined.csv\")\n",
    "\n"
   ]
  },
  {
   "cell_type": "code",
   "execution_count": 42,
   "metadata": {},
   "outputs": [
    {
     "data": {
      "image/png": "[encoded data removed]",
      "text/plain": [
       "<Figure size 432x288 with 1 Axes>"
      ]
     },
     "metadata": {
      "needs_background": "light"
     },
     "output_type": "display_data"
    }
   ],
   "source": [
    "# 엔진속도를 시각화 \n",
    "import matplotlib.pyplot as plt\n",
    "\n",
    "plt.plot(df_phys_join[\"EngineSpeed\"])\n",
    "plt.xlabel(\"Time\")\n",
    "plt.ylabel(\"EngineSpeed\")\n",
    "# plt.legend(\"E\")\n",
    "plt.show()"
   ]
  },
  {
   "cell_type": "code",
   "execution_count": 43,
   "metadata": {},
   "outputs": [
    {
     "data": {
      "image/png": "[encoded data removed]",
      "text/plain": [
       "<Figure size 432x288 with 1 Axes>"
      ]
     },
     "metadata": {
      "needs_background": "light"
     },
     "output_type": "display_data"
    }
   ],
   "source": [
    "# WheelBasedVehicleSpeed 시각화\n",
    "plt.plot(df_phys_join[\"WheelBasedVehicleSpeed\"])\n",
    "plt.xlabel(\"Time\")\n",
    "plt.ylabel(\"WheelBasedVehicleSpeed\")\n",
    "# plt.legend(\"E\")\n",
    "plt.show()"
   ]
  }
 ],
 "metadata": {
  "kernelspec": {
   "display_name": "Python 3.8.10 64-bit",
   "language": "python",
   "name": "python3"
  },
  "language_info": {
   "codemirror_mode": {
    "name": "ipython",
    "version": 3
   },
   "file_extension": ".py",
   "mimetype": "text/x-python",
   "name": "python",
   "nbconvert_exporter": "python",
   "pygments_lexer": "ipython3",
   "version": "3.8.10"
  },
  "orig_nbformat": 4,
  "vscode": {
   "interpreter": {
    "hash": "916dbcbb3f70747c44a77c7bcd40155683ae19c65e1c03b4aa3499c5328201f1"
   }
  }
 },
 "nbformat": 4,
 "nbformat_minor": 2
}
